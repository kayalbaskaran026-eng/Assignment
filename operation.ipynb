{
 "cells": [
  {
   "cell_type": "markdown",
   "id": "9b4b5b0a-da73-4e6e-bd32-f2d7b8586e88",
   "metadata": {},
   "source": [
    "# Operation on list"
   ]
  },
  {
   "cell_type": "markdown",
   "id": "35ad3c60-2a1d-46fa-9459-e80e8d7f70e4",
   "metadata": {},
   "source": [
    "#### Create and Print a List"
   ]
  },
  {
   "cell_type": "code",
   "execution_count": 45,
   "id": "740d1d7c-c0fd-4ecf-b4f6-870474b62cb3",
   "metadata": {},
   "outputs": [
    {
     "name": "stdout",
     "output_type": "stream",
     "text": [
      "List elements: [18, 22, 25, 30, 35]\n"
     ]
    }
   ],
   "source": [
    "ages = [18, 22, 25, 30, 35]\n",
    "print(\"List elements:\", ages)"
   ]
  },
  {
   "cell_type": "markdown",
   "id": "a3500287-9620-4707-a6fb-e47d01f53aaa",
   "metadata": {},
   "source": [
    "#### Append an Element"
   ]
  },
  {
   "cell_type": "code",
   "execution_count": 46,
   "id": "1f8a4fed-cf4a-49d0-8f4d-28577af3b0eb",
   "metadata": {},
   "outputs": [
    {
     "name": "stdout",
     "output_type": "stream",
     "text": [
      "After append: ['Delhi', 'Mumbai', 'Chennai', 'Kolkata']\n"
     ]
    }
   ],
   "source": [
    "cities = [\"Delhi\", \"Mumbai\", \"Chennai\"]\n",
    "cities.append(\"Kolkata\")\n",
    "print(\"After append:\", cities)"
   ]
  },
  {
   "cell_type": "markdown",
   "id": "440c00c3-ed05-4001-8de3-5378c26e1ddb",
   "metadata": {},
   "source": [
    "#### Insert an Element"
   ]
  },
  {
   "cell_type": "code",
   "execution_count": 47,
   "id": "f1d645c4-636e-47e5-8b59-b166e827acdc",
   "metadata": {},
   "outputs": [
    {
     "name": "stdout",
     "output_type": "stream",
     "text": [
      "After insert: ['cricket', 'football', 'tennis', 'hockey']\n"
     ]
    }
   ],
   "source": [
    "sports = [\"cricket\", \"football\", \"hockey\"]\n",
    "sports.insert(2, \"tennis\")   \n",
    "print(\"After insert:\", sports)"
   ]
  },
  {
   "cell_type": "markdown",
   "id": "639ad44c-bce3-456c-95b7-bf75ee57549a",
   "metadata": {},
   "source": [
    "#### Remove an Element"
   ]
  },
  {
   "cell_type": "code",
   "execution_count": 48,
   "id": "dfee7c42-3d46-45cf-ad7a-928fbf0d6e6a",
   "metadata": {},
   "outputs": [
    {
     "name": "stdout",
     "output_type": "stream",
     "text": [
      "After remove: ['car', 'bus', 'train']\n"
     ]
    }
   ],
   "source": [
    "vehicles = [\"car\", \"bus\", \"bike\", \"train\"]\n",
    "vehicles.remove(\"bike\")\n",
    "print(\"After remove:\", vehicles)"
   ]
  },
  {
   "cell_type": "markdown",
   "id": "b7ece71c-1c32-432b-bb82-6f557a28caaf",
   "metadata": {},
   "source": [
    "#### Sort the List"
   ]
  },
  {
   "cell_type": "code",
   "execution_count": 49,
   "id": "254c300f-f869-44e2-b5bd-632324516e22",
   "metadata": {},
   "outputs": [
    {
     "name": "stdout",
     "output_type": "stream",
     "text": [
      "After sorting: [45, 54, 67, 88, 92]\n"
     ]
    }
   ],
   "source": [
    "scores = [88, 45, 67, 92, 54]\n",
    "scores.sort()\n",
    "print(\"After sorting:\", scores)"
   ]
  },
  {
   "cell_type": "markdown",
   "id": "07ad0781-7694-487e-8792-9850ed4fc0fb",
   "metadata": {},
   "source": [
    "# Operation on tuple"
   ]
  },
  {
   "cell_type": "markdown",
   "id": "9765c775-7f9f-4c2f-85f9-b8a824a3e955",
   "metadata": {},
   "source": [
    "#### Create and Print a Tuple"
   ]
  },
  {
   "cell_type": "code",
   "execution_count": 50,
   "id": "10b258ba-ac52-4f12-8534-41ec9eb3e1ea",
   "metadata": {},
   "outputs": [
    {
     "name": "stdout",
     "output_type": "stream",
     "text": [
      "Tuple elements: (5, 10, 15, 20, 25)\n"
     ]
    }
   ],
   "source": [
    "numbers = (5, 10, 15, 20, 25)\n",
    "print(\"Tuple elements:\", numbers)"
   ]
  },
  {
   "cell_type": "markdown",
   "id": "ea8d70f9-97aa-433a-905b-639b6c9fa146",
   "metadata": {},
   "source": [
    "#### Access an Element by Index"
   ]
  },
  {
   "cell_type": "code",
   "execution_count": 51,
   "id": "8e2cf695-e0f2-4d0d-8702-81031ff87a37",
   "metadata": {},
   "outputs": [
    {
     "name": "stdout",
     "output_type": "stream",
     "text": [
      "Element at index 2: cherry\n"
     ]
    }
   ],
   "source": [
    "fruits = (\"apple\", \"banana\", \"cherry\", \"mango\")\n",
    "print(\"Element at index 2:\", fruits[2])"
   ]
  },
  {
   "cell_type": "markdown",
   "id": "61984fb3-cd62-4bbe-ab69-272b6f80e938",
   "metadata": {},
   "source": [
    "#### Slicing a Tuple"
   ]
  },
  {
   "cell_type": "code",
   "execution_count": 52,
   "id": "01cef96c-cec0-477e-a86d-5ae069a8c0cc",
   "metadata": {},
   "outputs": [
    {
     "name": "stdout",
     "output_type": "stream",
     "text": [
      "Sliced tuple: ('blue', 'green', 'yellow')\n"
     ]
    }
   ],
   "source": [
    "colors = (\"red\", \"blue\", \"green\", \"yellow\", \"black\")\n",
    "print(\"Sliced tuple:\", colors[1:4])"
   ]
  },
  {
   "cell_type": "markdown",
   "id": "d4bf2c81-6d00-43ca-8115-8f253d901e34",
   "metadata": {},
   "source": [
    "#### Count Occurrences"
   ]
  },
  {
   "cell_type": "code",
   "execution_count": 53,
   "id": "b633dc76-2e0b-4a19-84e9-130b76484432",
   "metadata": {},
   "outputs": [
    {
     "name": "stdout",
     "output_type": "stream",
     "text": [
      "Count of 'cat': 3\n"
     ]
    }
   ],
   "source": [
    "animals = (\"cat\", \"dog\", \"cat\", \"lion\", \"cat\", \"tiger\")\n",
    "print(\"Count of 'cat':\", animals.count(\"cat\"))"
   ]
  },
  {
   "cell_type": "markdown",
   "id": "3a288db1-27cd-4b14-a57f-3dd34adba70b",
   "metadata": {},
   "source": [
    "#### Find Index of an Element"
   ]
  },
  {
   "cell_type": "code",
   "execution_count": 54,
   "id": "a90690d6-ef23-438a-853c-8953cbe6b6ce",
   "metadata": {},
   "outputs": [
    {
     "name": "stdout",
     "output_type": "stream",
     "text": [
      "Index of 'english': 2\n"
     ]
    }
   ],
   "source": [
    "subjects = (\"maths\", \"science\", \"english\", \"history\")\n",
    "print(\"Index of 'english':\", subjects.index(\"english\"))"
   ]
  },
  {
   "cell_type": "markdown",
   "id": "649de1b8-c520-4157-ac35-773065a292d9",
   "metadata": {},
   "source": [
    "# Operation on set"
   ]
  },
  {
   "cell_type": "markdown",
   "id": "718f91b8-3efb-4741-88c0-39c699455b4b",
   "metadata": {},
   "source": [
    "#### Create and Print a Set"
   ]
  },
  {
   "cell_type": "code",
   "execution_count": 55,
   "id": "304b5a5a-4123-457c-87f1-306217dfe20c",
   "metadata": {
    "jupyter": {
     "source_hidden": true
    }
   },
   "outputs": [
    {
     "name": "stdout",
     "output_type": "stream",
     "text": [
      "Set elements: {50, 20, 40, 10, 30}\n"
     ]
    }
   ],
   "source": [
    "numbers = {10, 20, 30, 40, 50}\n",
    "print(\"Set elements:\", numbers)"
   ]
  },
  {
   "cell_type": "markdown",
   "id": "c7477207-cccd-45ab-86d7-7fd6e4ff1a4a",
   "metadata": {},
   "source": [
    "#### Add an Element"
   ]
  },
  {
   "cell_type": "code",
   "execution_count": 56,
   "id": "49c444de-726c-4d4f-9be6-c6c87285a467",
   "metadata": {},
   "outputs": [
    {
     "name": "stdout",
     "output_type": "stream",
     "text": [
      "After add: {'cherry', 'mango', 'apple', 'banana'}\n"
     ]
    }
   ],
   "source": [
    "fruits = {\"apple\", \"banana\", \"cherry\"}\n",
    "fruits.add(\"mango\")\n",
    "print(\"After add:\", fruits)"
   ]
  },
  {
   "cell_type": "markdown",
   "id": "cc84b904-394e-433a-8cd8-912ec3d5d475",
   "metadata": {},
   "source": [
    "#### Remove an Element"
   ]
  },
  {
   "cell_type": "code",
   "execution_count": 57,
   "id": "05281423-166c-41a2-9d8f-51f1191045e9",
   "metadata": {},
   "outputs": [
    {
     "name": "stdout",
     "output_type": "stream",
     "text": [
      "After remove: {'red', 'blue', 'yellow'}\n"
     ]
    }
   ],
   "source": [
    "colors = {\"red\", \"blue\", \"green\", \"yellow\"}\n",
    "colors.remove(\"green\")\n",
    "print(\"After remove:\", colors)"
   ]
  },
  {
   "cell_type": "markdown",
   "id": "9eaab23e-6f82-41bc-bcec-756f648c27f2",
   "metadata": {},
   "source": [
    "#### Union of Two Sets"
   ]
  },
  {
   "cell_type": "code",
   "execution_count": 58,
   "id": "097070d8-2054-456c-92ef-0dfaa79dfc62",
   "metadata": {
    "jupyter": {
     "source_hidden": true
    }
   },
   "outputs": [
    {
     "name": "stdout",
     "output_type": "stream",
     "text": [
      "Union: {1, 2, 3, 4, 5}\n"
     ]
    }
   ],
   "source": [
    "set1 = {1, 2, 3}\n",
    "set2 = {3, 4, 5}\n",
    "print(\"Union:\", set1.union(set2))"
   ]
  },
  {
   "cell_type": "markdown",
   "id": "b1d5c708-0ba0-4c71-8b89-5b6d57aed984",
   "metadata": {},
   "source": [
    "#### Intersection of Two Sets"
   ]
  },
  {
   "cell_type": "code",
   "execution_count": 59,
   "id": "afed9837-31b1-487b-87fe-f902c27f588f",
   "metadata": {},
   "outputs": [
    {
     "name": "stdout",
     "output_type": "stream",
     "text": [
      "Intersection: {'lion', 'dog'}\n"
     ]
    }
   ],
   "source": [
    "setA = {\"cat\", \"dog\", \"lion\"}\n",
    "setB = {\"dog\", \"tiger\", \"lion\"}\n",
    "print(\"Intersection:\", setA.intersection(setB))"
   ]
  },
  {
   "cell_type": "markdown",
   "id": "83b1b488-0797-4a51-aa6c-b019e10381fc",
   "metadata": {},
   "source": [
    "# Operation on dictionary"
   ]
  },
  {
   "cell_type": "markdown",
   "id": "56dd9f05-1412-4b67-9690-8fc127630026",
   "metadata": {},
   "source": [
    "#### Create and Print a Dictionary"
   ]
  },
  {
   "cell_type": "code",
   "execution_count": 60,
   "id": "bfa8cd8b-3217-47a6-a00a-e06b8acb1d98",
   "metadata": {},
   "outputs": [
    {
     "name": "stdout",
     "output_type": "stream",
     "text": [
      "Dictionary elements: {'name': 'Kayal', 'age': 18, 'course': 'CSE'}\n"
     ]
    }
   ],
   "source": [
    "student = {\"name\": \"Kayal\", \"age\": 18, \"course\": \"CSE\"}\n",
    "print(\"Dictionary elements:\", student)"
   ]
  },
  {
   "cell_type": "markdown",
   "id": "1b5ed094-5292-4460-8cea-43c0a5d9eee3",
   "metadata": {},
   "source": [
    "#### Add a New Key–Value Pair"
   ]
  },
  {
   "cell_type": "code",
   "execution_count": 61,
   "id": "296a3d31-2657-43a6-bb8b-9bff0c8f51f5",
   "metadata": {},
   "outputs": [
    {
     "name": "stdout",
     "output_type": "stream",
     "text": [
      "After adding: {'apple': 50, 'banana': 30, 'mango': 40}\n"
     ]
    }
   ],
   "source": [
    "fruits = {\"apple\": 50, \"banana\": 30}\n",
    "fruits[\"mango\"] = 40\n",
    "print(\"After adding:\", fruits)"
   ]
  },
  {
   "cell_type": "markdown",
   "id": "688c7482-0084-48cf-8f5d-6fe846eadde8",
   "metadata": {},
   "source": [
    "#### Update a Value"
   ]
  },
  {
   "cell_type": "code",
   "execution_count": 62,
   "id": "2bc1dd8c-ad54-4297-a160-cf39dceaaa8b",
   "metadata": {},
   "outputs": [
    {
     "name": "stdout",
     "output_type": "stream",
     "text": [
      "After update: {'maths': 85, 'science': 95, 'english': 80}\n"
     ]
    }
   ],
   "source": [
    "marks = {\"maths\": 85, \"science\": 90, \"english\": 80}\n",
    "marks[\"science\"] = 95\n",
    "print(\"After update:\", marks)"
   ]
  },
  {
   "cell_type": "markdown",
   "id": "3a910194-317c-4100-a16f-6750c59b3470",
   "metadata": {},
   "source": [
    "#### Remove a Key–Value Pair"
   ]
  },
  {
   "cell_type": "code",
   "execution_count": 63,
   "id": "e7156f1f-45f9-4ed3-8095-770c38a2b8e5",
   "metadata": {},
   "outputs": [
    {
     "name": "stdout",
     "output_type": "stream",
     "text": [
      "After remove: {'BMW': 5000000, 'Tesla': 6000000}\n"
     ]
    }
   ],
   "source": [
    "cars = {\"BMW\": 5000000, \"Audi\": 4000000, \"Tesla\": 6000000}\n",
    "cars.pop(\"Audi\")\n",
    "print(\"After remove:\", cars)"
   ]
  },
  {
   "cell_type": "markdown",
   "id": "5c133c82-bcda-443f-9b2a-8fc5c55b5790",
   "metadata": {},
   "source": [
    "#### Access Value by Key"
   ]
  },
  {
   "cell_type": "code",
   "execution_count": 64,
   "id": "9cc30ab6-8a3b-48c9-a522-02336d4fe0b5",
   "metadata": {},
   "outputs": [
    {
     "name": "stdout",
     "output_type": "stream",
     "text": [
      "Capital of Japan: Tokyo\n"
     ]
    }
   ],
   "source": [
    "capital = {\"India\": \"Delhi\", \"Japan\": \"Tokyo\", \"France\": \"Paris\"}\n",
    "print(\"Capital of Japan:\", capital[\"Japan\"])"
   ]
  },
  {
   "cell_type": "code",
   "execution_count": null,
   "id": "2a73deaa-a03d-4ff3-aaf0-bba94df601df",
   "metadata": {},
   "outputs": [],
   "source": []
  }
 ],
 "metadata": {
  "kernelspec": {
   "display_name": "Python 3 (ipykernel)",
   "language": "python",
   "name": "python3"
  },
  "language_info": {
   "codemirror_mode": {
    "name": "ipython",
    "version": 3
   },
   "file_extension": ".py",
   "mimetype": "text/x-python",
   "name": "python",
   "nbconvert_exporter": "python",
   "pygments_lexer": "ipython3",
   "version": "3.13.5"
  }
 },
 "nbformat": 4,
 "nbformat_minor": 5
}
